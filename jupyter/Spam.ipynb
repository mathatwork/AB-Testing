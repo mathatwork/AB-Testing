{
 "cells": [
  {
   "cell_type": "markdown",
   "metadata": {},
   "source": [
    "# SciPy for A/B Testing: Spam"
   ]
  },
  {
   "cell_type": "markdown",
   "metadata": {},
   "source": [
    "You work at an email marketing company that sends out over 1,000 emails per day promoting your clients.  After some research you find that many of your emails are ending up in spam or junk folders.  You believe this is because the subject line in most of your emails contain the word FREE which is one of the most common spam words.  You think that a fewer percentage of emails will go to the spam folder if you replace the word FREE with COMPLIMENTARY in the subject line."
   ]
  },
  {
   "cell_type": "markdown",
   "metadata": {},
   "source": [
    "**STEP 1:** You will test the percentage of emails going to the spam folder with email subject line containing the word FREE versus the word COMPLIMENTARY.<BR>\n",
    "**STEP 2:** You think that replacing the word FREE with the word COMPLIMENTARY in the subject line will produce a fewer percentage of emails sent out by your agency going to a prospective customers' spam folders.<br>\n",
    "**STEP 3:** Your original email subject line for a particular campaign contains the word FREE. You then create a new version of the email by replacing only this word with the word COMPLIMENTARY.<br>\n",
    "**STEP 4:** After using appropriate methods for determining how long to run your experiment, you deploy both email campaigns simultaneously and then collect the results.\n",
    "<br><br>\n",
    "Here are your results:<br>\n",
    "FREE: spam = 67, not spam = 33<br>\n",
    "COMP: spam = 58, not spam = 42<br>"
   ]
  },
  {
   "cell_type": "markdown",
   "metadata": {},
   "source": [
    "**Question 1)** Analyze the results of your experiment.  Was your prediction correct?  Explain in the cell below your analysis."
   ]
  },
  {
   "cell_type": "code",
   "execution_count": null,
   "metadata": {},
   "outputs": [],
   "source": []
  },
  {
   "cell_type": "code",
   "execution_count": null,
   "metadata": {
    "collapsed": true
   },
   "outputs": [],
   "source": []
  },
  {
   "cell_type": "markdown",
   "metadata": {},
   "source": [
    "**Question 2)** Was there enough evidence to abandon the use of the word FREE in the subject line for all future email campaigns in favor of the word COMPLIMENTARY at an 85% confidence level?  Analyze your results in the next cell and explain in the cell below it."
   ]
  },
  {
   "cell_type": "code",
   "execution_count": null,
   "metadata": {},
   "outputs": [],
   "source": []
  },
  {
   "cell_type": "code",
   "execution_count": null,
   "metadata": {
    "collapsed": true
   },
   "outputs": [],
   "source": []
  }
 ],
 "metadata": {
  "kernelspec": {
   "display_name": "Python 3",
   "language": "python",
   "name": "python3"
  },
  "language_info": {
   "codemirror_mode": {
    "name": "ipython",
    "version": 3
   },
   "file_extension": ".py",
   "mimetype": "text/x-python",
   "name": "python",
   "nbconvert_exporter": "python",
   "pygments_lexer": "ipython3",
   "version": "3.6.1"
  }
 },
 "nbformat": 4,
 "nbformat_minor": 2
}
