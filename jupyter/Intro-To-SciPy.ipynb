{
 "cells": [
  {
   "cell_type": "markdown",
   "metadata": {},
   "source": [
    "# Introduction to SciPy for A/B Testing"
   ]
  },
  {
   "cell_type": "markdown",
   "metadata": {},
   "source": [
    "`SciPy` is a Python library used for scientific and technical computing.  To use `SciPy`, you must ALWAYS first import the package at the beginning of your Python script."
   ]
  },
  {
   "cell_type": "code",
   "execution_count": 1,
   "metadata": {
    "collapsed": true
   },
   "outputs": [],
   "source": [
    "from scipy.stats import chi2_contingency"
   ]
  },
  {
   "cell_type": "markdown",
   "metadata": {},
   "source": [
    "We are only using `SciPy` for A/B testing.  Therefore, we only need to import **chi2_contingency** from the `stats` module. This is what we use to get the p-value of a Chi Square Test.  Actually, a call to **chi2_contingency** returns:\n",
    "- *Chi2* = the test statistic\n",
    "- *pvalue* = the p-value of the test\n",
    "- *dof* = the degrees of freedom\n",
    "- *expected* = the expected frequencies, based on the marginal sums of the table"
   ]
  },
  {
   "cell_type": "markdown",
   "metadata": {},
   "source": [
    "For example, after analyzing purchase results of visitors for website versions A and B we get: \n",
    "<br>\n",
    "Option A: purchased = 183, not purchased = 1483\n",
    "<br>\n",
    "Option B: purchased = 316, not purchased 1350\n",
    "<br><br>\n",
    "Assume our metric was the percentage of purchases made on website version A versus B and that we predicted website version B would produce a higher percentage in purchases than website version A.  Here is our analysis of experiment results:"
   ]
  },
  {
   "cell_type": "code",
   "execution_count": 8,
   "metadata": {
    "collapsed": false
   },
   "outputs": [
    {
     "name": "stdout",
     "output_type": "stream",
     "text": [
      "0.10984393757503001\n",
      "0.18967587034813926\n"
     ]
    }
   ],
   "source": [
    "option_A = 183/(183+1483)\n",
    "option_B = 316/(316+1350)\n",
    "print(option_A)\n",
    "print(option_B)"
   ]
  },
  {
   "cell_type": "markdown",
   "metadata": {},
   "source": [
    "From the above, we see that the experiment showed a higher percentage of purchases (19%) made from website version B, but are people really purchasing more because of the tweaked website version or are these results just by random chance? \n",
    "<br><br>\n",
    "We decide on a significance level of 95% and then run a Chi Square Test."
   ]
  },
  {
   "cell_type": "markdown",
   "metadata": {},
   "source": [
    "To run a Chi Square Test, we must use the purchased/not purchased data to create a contingency table for input into **chi2_contingency( )**."
   ]
  },
  {
   "cell_type": "code",
   "execution_count": 2,
   "metadata": {
    "collapsed": true
   },
   "outputs": [],
   "source": [
    "contingency = [[183,1483],[316,1350]]"
   ]
  },
  {
   "cell_type": "code",
   "execution_count": 3,
   "metadata": {
    "collapsed": false
   },
   "outputs": [
    {
     "name": "stdout",
     "output_type": "stream",
     "text": [
      "1.47008361057e-10\n"
     ]
    }
   ],
   "source": [
    "chi2,pvalue,dof,expected = chi2_contingency(contingency)\n",
    "print(pvalue)"
   ]
  },
  {
   "cell_type": "markdown",
   "metadata": {},
   "source": [
    "Notice, we had to give each output of the chi2_contingency( ) method a name.  This way we could reference the value we want.  In this case, we need to print only the *pvalue*. \n",
    "<br><br>\n",
    "The pvalue = 0.000000000147 IS LESS THAN 0.05, which means the percentage of purchases were significantly higher.  Therefore, we are 95% confident we can choose website version B over version A."
   ]
  },
  {
   "cell_type": "markdown",
   "metadata": {},
   "source": [
    "# More A/B Testing"
   ]
  },
  {
   "cell_type": "markdown",
   "metadata": {},
   "source": [
    "You work at a bank.  Currently, no SMS text reminders regarding loan payments are sent to its customers.  You think that a fewer percentage of customers will default on loans after receiving SMS text reminders than those who do not receive SMS text reminders.  You run an experiment on each option and get the following results:\n",
    "<br><br>\n",
    "*no_reminder*: defaulted = 1005, not defaulted = 3294\n",
    "<br>\n",
    "*reminder*: defaulted = 896, not defaulted = 3403\n",
    "<br><br>\n",
    "Is a fewer percentage of people defaulting after receiving SMS text reminders at a 95% confidence level?"
   ]
  },
  {
   "cell_type": "code",
   "execution_count": 9,
   "metadata": {
    "collapsed": false
   },
   "outputs": [
    {
     "name": "stdout",
     "output_type": "stream",
     "text": [
      "0.23377529658060014\n",
      "0.20842056292160968\n"
     ]
    }
   ],
   "source": [
    "no_reminder = 1005/(1005+3294)\n",
    "reminder = 896/(896+3403)\n",
    "print(no_reminder)\n",
    "print(reminder)"
   ]
  },
  {
   "cell_type": "markdown",
   "metadata": {},
   "source": [
    "From these results you see that a fewer percentage of people (21%) defaulted on loans after receiving SMS text reminders, but are these results significant or merely by chance? \n",
    "<br><br>\n",
    "You run a Chi Square Test with a significance level of 95%."
   ]
  },
  {
   "cell_type": "code",
   "execution_count": 10,
   "metadata": {
    "collapsed": false
   },
   "outputs": [
    {
     "name": "stdout",
     "output_type": "stream",
     "text": [
      "0.00500565771251\n"
     ]
    }
   ],
   "source": [
    "contingency = [[1005,3294], [896,3403]]\n",
    "chi2,pvalue,dof,expected = chi2_contingency(contingency)\n",
    "print(pvalue)"
   ]
  },
  {
   "cell_type": "markdown",
   "metadata": {},
   "source": [
    "*pvalue* = 0.005 IS LESS THAN 0.05 which means the percentage of defaults were significantly fewer.  Therefore, you are 95% confident you should begin sending all our customers SMS text reminders regarding their loan payments."
   ]
  },
  {
   "cell_type": "markdown",
   "metadata": {},
   "source": [
    "### Exercise"
   ]
  },
  {
   "cell_type": "markdown",
   "metadata": {},
   "source": [
    "You work at a social media company that gets revenue by the number of ad clicks it gets from its users.  Currently there is no way to share videos on your platform.  You think that you will have a higher percentage of ad clicks on your platform if you added the ability for a user to share his videos.  You run an experiment on each option for users of your site and get the following results:\n",
    "<br><br>\n",
    "no_videos: clicks = 100, no clicks = 300\n",
    "<br>\n",
    "videos: clicks = 150, no clicks = 250\n",
    "<br><br>\n",
    "With a 95% significance level, should the ability to share videos be added to your platform?  Explain in the cell below your analysis."
   ]
  },
  {
   "cell_type": "code",
   "execution_count": null,
   "metadata": {
    "collapsed": true
   },
   "outputs": [],
   "source": []
  },
  {
   "cell_type": "code",
   "execution_count": null,
   "metadata": {
    "collapsed": true
   },
   "outputs": [],
   "source": []
  }
 ],
 "metadata": {
  "kernelspec": {
   "display_name": "Python 2",
   "language": "python",
   "name": "python2"
  },
  "language_info": {
   "codemirror_mode": {
    "name": "ipython",
    "version": 2
   },
   "file_extension": ".py",
   "mimetype": "text/x-python",
   "name": "python",
   "nbconvert_exporter": "python",
   "pygments_lexer": "ipython2",
   "version": "2.7.13"
  }
 },
 "nbformat": 4,
 "nbformat_minor": 2
}
