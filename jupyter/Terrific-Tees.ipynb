{
 "cells": [
  {
   "cell_type": "markdown",
   "metadata": {},
   "source": [
    "# A/B Testing in the Real World: Terrific Tees"
   ]
  },
  {
   "cell_type": "markdown",
   "metadata": {},
   "source": [
    "You are the owner of an online graphic tshirt company called Terrific Tees.  You recently released a promotional offer to drive more tshirt purchases. The offer was displayed as a banner across the top of your homepage -- front-and-center for shoppers. But according to your staff, the promotion was not driving the increase in purchases you had expected.\n",
    "<br><br>\n",
    "You then decide to test another option to see what design or layout would drive more purchases. For all site visitors during the experiment, you note whether a purchase was made.  You record the results in a CSV file located in the DATA directory named `online-orders.csv`."
   ]
  },
  {
   "cell_type": "markdown",
   "metadata": {},
   "source": [
    "**1]** Import your dataset into a Pandas DataFrame named `orders` then print the first 10 lines to the screen to see how your data looks.  If you do not recall how to do this, we discussed importing data into a DataFrame in the Data Science workshop."
   ]
  },
  {
   "cell_type": "code",
   "execution_count": null,
   "metadata": {
    "collapsed": true
   },
   "outputs": [],
   "source": []
  },
  {
   "cell_type": "markdown",
   "metadata": {},
   "source": [
    "**2]** Version A is the original version of your website and Version B is the tweaked version with the offer banner displayed in a different location.  In the next cell, find the number of site visitors who made a PURCHASE and a NO PURCHASE for each website version.\n",
    "<br><br>\n",
    "**HINT:** You will need to group by Version and Purchased. Then perform an aggregate `count` on the Purchased column."
   ]
  },
  {
   "cell_type": "code",
   "execution_count": null,
   "metadata": {
    "collapsed": true
   },
   "outputs": [],
   "source": []
  },
  {
   "cell_type": "markdown",
   "metadata": {},
   "source": [
    "**3]** Did version B produce a higher percentage in number of tshirts purchased? Explain in the cell below your analysis."
   ]
  },
  {
   "cell_type": "code",
   "execution_count": null,
   "metadata": {
    "collapsed": true
   },
   "outputs": [],
   "source": []
  },
  {
   "cell_type": "code",
   "execution_count": null,
   "metadata": {
    "collapsed": true
   },
   "outputs": [],
   "source": []
  },
  {
   "cell_type": "markdown",
   "metadata": {},
   "source": [
    "**4]** With a 90% confidence level, should you abandon website version A in favor of version B?  Explain in the cell below your analysis."
   ]
  },
  {
   "cell_type": "code",
   "execution_count": null,
   "metadata": {
    "collapsed": true
   },
   "outputs": [],
   "source": []
  },
  {
   "cell_type": "code",
   "execution_count": null,
   "metadata": {
    "collapsed": true
   },
   "outputs": [],
   "source": []
  }
 ],
 "metadata": {
  "kernelspec": {
   "display_name": "Python 3",
   "language": "python",
   "name": "python3"
  },
  "language_info": {
   "codemirror_mode": {
    "name": "ipython",
    "version": 3
   },
   "file_extension": ".py",
   "mimetype": "text/x-python",
   "name": "python",
   "nbconvert_exporter": "python",
   "pygments_lexer": "ipython3",
   "version": "3.6.1"
  }
 },
 "nbformat": 4,
 "nbformat_minor": 2
}
